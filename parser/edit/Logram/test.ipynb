{
 "cells": [
  {
   "cell_type": "code",
   "execution_count": null,
   "metadata": {},
   "outputs": [],
   "source": [
    "#!/usr/bin/env python\n",
    "\n",
    "# import sys\n",
    "# sys.path.append('./root')\n",
    "from root.Logram import LogParser\n",
    "\n",
    "input_dir  = '../PreTrain0'   # Đường dẫn vào thư mục chứa file đầu vào\n",
    "output_dir = './res'                      # Thư mục kết quả\n",
    "log_file   = 'filelog1.log'                 # Tên file đầu vào\n",
    "log_format = '<Date> <Time>,<Pid> <Level> <Component>: <Content>'  # HDFS log format\n",
    "# Biểu thức chính quy\n",
    "\n",
    "regex      = [\n",
    "    r'blk_(|-)[0-9]+' , # block id\n",
    "    r'(/|)([0-9]+\\.){3}[0-9]+(:[0-9]+|)(:|)', # IP\n",
    "    r'(?<=[^A-Za-z0-9])(\\-?\\+?\\d+)(?=[^A-Za-z0-9])|[0-9]+$', # Numbers\n",
    "]\n",
    "doubleThreshold = 15\n",
    "triThreshold = 10\n",
    "\n",
    "for i in range(1,5):\n",
    "    str_file = \"filelog\"+str(i)+\".log\"\n",
    "    parserObj.parse(str_file)\n",
    "    print(len(parserObj.list_logClust))\n",
    "\n",
    "\n",
    "parser = LogParser(log_format, indir=input_dir, outdir=output_dir, rex=regex, \n",
    "                   doubleThreshold=doubleThreshold, triThreshold=triThreshold)\n",
    "parser.parse(log_file)"
   ]
  },
  {
   "cell_type": "code",
   "execution_count": null,
   "metadata": {},
   "outputs": [],
   "source": [
    "input_dir  = '../PreTrain0'   # Đường dẫn vào thư mục chứa file đầu vào\n",
    "output_dir = './res'                      # Thư mục kết quả\n",
    "log_file   = 'filelog1.log'                 # Tên file đầu vào\n",
    "log_format = '<Date> <Time>,<Pid> <Level> <Component>: <Content>'  # HDFS log format\n",
    "# Biểu thức chính quy\n",
    "\n",
    "regex      = [\n",
    "    r'blk_(|-)[0-9]+' , # block id\n",
    "    r'(/|)([0-9]+\\.){3}[0-9]+(:[0-9]+|)(:|)', # IP\n",
    "    r'(?<=[^A-Za-z0-9])(\\-?\\+?\\d+)(?=[^A-Za-z0-9])|[0-9]+$', # Numbers\n",
    "]\n",
    "st         = 0.5  # Ngưỡng tương đồng\n",
    "depth      = 4  # Độ sâu của cây phân tích\n",
    "\n",
    "rex_unix = \"%Y-%m-%d %H:%M:%S\"\n",
    "row_dt = \"<Date> <Time>\"\n",
    "parserObj = Drain_test.LogParserEdit(\n",
    "    log_format, indir=input_dir, outdir=output_dir, depth=depth, st=st, rex=regex,\n",
    "    rex_unix=rex_unix, row_dt=row_dt,\n",
    "    )\n",
    "# parserObj.parse(log_file)\n",
    "\n",
    "# selected_columns = ['LineId', 'UnixTime', 'Date', 'Time', 'EventId', 'EventIdVN', 'EventTemplate', 'ParameterList']\n",
    "\n",
    "# parserObj.parse(\"filelog2.log\") \n",
    "\n",
    "for i in range(1,5):\n",
    "    str_file = \"filelog\"+str(i)+\".log\"\n",
    "    parserObj.parse(str_file)\n",
    "    print(len(parserObj.list_logClust))\n",
    "    # parserObj.df_log = pd.DataFrame()\n",
    "    # parserObj.df_log = None"
   ]
  }
 ],
 "metadata": {
  "kernelspec": {
   "display_name": "Python 3",
   "language": "python",
   "name": "python3"
  },
  "language_info": {
   "name": "python",
   "version": "3.11.2"
  }
 },
 "nbformat": 4,
 "nbformat_minor": 2
}
